{
  "cells": [
    {
      "cell_type": "markdown",
      "metadata": {
        "id": "f1r5gmkukA17"
      },
      "source": [
        "#**Content Based Recommender Systems**"
      ]
    },
    {
      "cell_type": "markdown",
      "metadata": {
        "id": "JwVnuGX1kOQK"
      },
      "source": [
        "##### Caculating Cosine Similarity in Python"
      ]
    },
    {
      "cell_type": "code",
      "execution_count": null,
      "metadata": {
        "id": "o7sEMKtSkQ7U"
      },
      "outputs": [],
      "source": [
        "from math import*\n",
        " \n",
        "def square_rooted(x):\n",
        "    return round(sqrt(sum([a*a for a in x])),3)\n",
        " \n",
        "def cosine_similarity(x,y):\n",
        "   numerator = sum(a*b for a,b in zip(x,y))\n",
        "   denominator = square_rooted(x)*square_rooted(y)\n",
        "   return round(numerator/float(denominator),3)\n",
        " \n"
      ]
    },
    {
      "cell_type": "code",
      "execution_count": null,
      "metadata": {
        "colab": {
          "base_uri": "https://localhost:8080/"
        },
        "id": "zzRuzAkJkQ2b",
        "outputId": "43561aa8-3976-4621-9cf6-4646603a9d1a"
      },
      "outputs": [],
      "source": [
        "print(cosine_similarity([3, 45, 7, 2], [2, 54, 13, 15]))"
      ]
    },
    {
      "cell_type": "markdown",
      "metadata": {
        "id": "1ep2S-f_JZuH"
      },
      "source": [
        "We want to recommend similar products based on previous records. For example if we search for casual shoes, similar shoes should be recommended to us, which can be done based on the hsahtags, brand, pricing, etc."
      ]
    },
    {
      "cell_type": "code",
      "execution_count": null,
      "metadata": {
        "colab": {
          "base_uri": "https://localhost:8080/",
          "height": 826
        },
        "id": "xS_H5XTJj7z8",
        "outputId": "134d10f2-d2b9-460f-c4d1-e21bf4a7b2f6"
      },
      "outputs": [],
      "source": [
        "\n",
        "import pandas as pd\n",
        "import numpy as np\n",
        "from sklearn.metrics.pairwise import cosine_similarity # performs same work as the cosine similarity we created above\n",
        "from sklearn.feature_extraction.text import CountVectorizer # performs same work as the Document Term Frequency we did earlier\n",
        "\n",
        "pd.set_option('display.max_columns', 100)\n",
        "df = pd.read_csv('products_data.csv')\n",
        "df.head()"
      ]
    },
    {
      "cell_type": "code",
      "execution_count": null,
      "metadata": {
        "colab": {
          "base_uri": "https://localhost:8080/"
        },
        "id": "flG0JH7lj70B",
        "outputId": "8814844d-1282-482e-8788-92710da557cb"
      },
      "outputs": [],
      "source": [
        "df.shape"
      ]
    },
    {
      "cell_type": "code",
      "execution_count": null,
      "metadata": {
        "colab": {
          "base_uri": "https://localhost:8080/",
          "height": 337
        },
        "id": "ugeAYCwPj70C",
        "outputId": "773fe271-26e9-48e9-8404-7921de781166"
      },
      "outputs": [],
      "source": [
        "df = df[['title','brand.name','category','highlights','subcategory']]\n",
        "df.head()"
      ]
    },
    {
      "cell_type": "code",
      "execution_count": null,
      "metadata": {
        "id": "p5H4qPTNj70D"
      },
      "outputs": [],
      "source": [
        "df['brand.name'] = df['brand.name'].map(lambda x: x.split(',')[:3])"
      ]
    },
    {
      "cell_type": "code",
      "execution_count": null,
      "metadata": {
        "colab": {
          "base_uri": "https://localhost:8080/"
        },
        "id": "v7FB2Z3zj70E",
        "outputId": "04998e17-893c-4a62-c95b-6384a9f1acca"
      },
      "outputs": [],
      "source": [
        "df['brand.name']"
      ]
    },
    {
      "cell_type": "code",
      "execution_count": null,
      "metadata": {
        "id": "69C9FjiNj70E"
      },
      "outputs": [],
      "source": [
        "df['category'] = df['category'].map(lambda x: x.lower().split(','))"
      ]
    },
    {
      "cell_type": "code",
      "execution_count": null,
      "metadata": {
        "colab": {
          "base_uri": "https://localhost:8080/"
        },
        "id": "4Suz0lZ-j70F",
        "outputId": "ae33571a-bd84-45a1-8346-82ddb65bee2c"
      },
      "outputs": [],
      "source": [
        "df['category']"
      ]
    },
    {
      "cell_type": "code",
      "execution_count": null,
      "metadata": {
        "id": "AIHW9f9uj70G"
      },
      "outputs": [],
      "source": [
        "df['subcategory'] = df['subcategory'].map(lambda x: x.split(' '))"
      ]
    },
    {
      "cell_type": "code",
      "execution_count": null,
      "metadata": {
        "colab": {
          "base_uri": "https://localhost:8080/"
        },
        "id": "de500EUwj70H",
        "outputId": "fe77c8d8-2496-4552-a5e8-f25840170743"
      },
      "outputs": [],
      "source": [
        "df['subcategory']"
      ]
    },
    {
      "cell_type": "code",
      "execution_count": null,
      "metadata": {
        "id": "b4fzV-6pj70H"
      },
      "outputs": [],
      "source": [
        "for index, row in df.iterrows():\n",
        "    row['category'] = [x.lower().replace(' ','') for x in row['category']]\n",
        "    row['subcategory'] = ''.join(row['subcategory']).lower()"
      ]
    },
    {
      "cell_type": "code",
      "execution_count": null,
      "metadata": {
        "colab": {
          "base_uri": "https://localhost:8080/"
        },
        "id": "eXCRstF5j70I",
        "outputId": "21a5335f-fa49-4c84-9395-8e4781b5b9ac"
      },
      "outputs": [],
      "source": [
        "df['category']"
      ]
    },
    {
      "cell_type": "code",
      "execution_count": null,
      "metadata": {
        "colab": {
          "base_uri": "https://localhost:8080/"
        },
        "id": "slWbw88vj70J",
        "outputId": "a86c67a7-7596-421f-ce86-4395c930c668"
      },
      "outputs": [],
      "source": [
        "df['subcategory']"
      ]
    },
    {
      "cell_type": "code",
      "execution_count": null,
      "metadata": {
        "colab": {
          "base_uri": "https://localhost:8080/"
        },
        "id": "W1EVcxzvOm-D",
        "outputId": "931de9fa-8915-4215-a62a-5ca0671c0b46"
      },
      "outputs": [],
      "source": [
        "pip install rake_nltk"
      ]
    },
    {
      "cell_type": "code",
      "execution_count": null,
      "metadata": {
        "colab": {
          "base_uri": "https://localhost:8080/"
        },
        "id": "EuDdDiWHj70J",
        "outputId": "3f929e80-ac12-476a-b236-f5f7be115b3e"
      },
      "outputs": [],
      "source": [
        "import rake_nltk\n",
        "from rake_nltk import Rake #for extracting significant keywords in the entire text available.\n",
        "import nltk\n",
        "nltk.download('stopwords')\n",
        "nltk.download('punkt')"
      ]
    },
    {
      "cell_type": "code",
      "execution_count": null,
      "metadata": {
        "id": "yj0DIfzcj70K"
      },
      "outputs": [],
      "source": [
        "# initializing the new column\n",
        "df['Key_words'] = \"\"\n",
        "\n",
        "for index, row in df.iterrows():\n",
        "    plot = row['hashtags']\n",
        "\n",
        "    r = Rake()\n",
        "\n",
        "    r.extract_keywords_from_text(plot)\n",
        "\n",
        "    key_words_dict_scores = r.get_word_degrees()\n",
        "    \n",
        "    row['Key_words'] = list(key_words_dict_scores.keys())\n",
        "\n",
        "# dropping the Plot column\n",
        "df.drop(columns = ['hashtags'], inplace = True)"
      ]
    },
    {
      "cell_type": "code",
      "execution_count": null,
      "metadata": {
        "colab": {
          "base_uri": "https://localhost:8080/"
        },
        "id": "tXr1GpXPj70L",
        "outputId": "a2b964b9-8f68-4f9d-b003-15bf42edf884"
      },
      "outputs": [],
      "source": [
        "key_words_dict_scores"
      ]
    },
    {
      "cell_type": "code",
      "execution_count": null,
      "metadata": {
        "colab": {
          "base_uri": "https://localhost:8080/",
          "height": 641
        },
        "id": "DfV9mLkTjzNf",
        "outputId": "5cbbe975-abbb-4b48-c4a8-77f4486ad136"
      },
      "outputs": [],
      "source": [
        "df"
      ]
    },
    {
      "cell_type": "code",
      "execution_count": null,
      "metadata": {
        "colab": {
          "base_uri": "https://localhost:8080/",
          "height": 316
        },
        "id": "zKhuxAsoj70L",
        "outputId": "e1aee1a2-f5c9-4d8d-b92d-8bdb33586630"
      },
      "outputs": [],
      "source": [
        "df.set_index('title', inplace = True)\n",
        "df.head()"
      ]
    },
    {
      "cell_type": "code",
      "execution_count": null,
      "metadata": {
        "id": "D-X0uQUFj70M"
      },
      "outputs": [],
      "source": [
        "df['bag_of_words'] = ''\n",
        "columns = df.columns\n",
        "for index, row in df.iterrows():\n",
        "    words = ''\n",
        "    for col in columns:\n",
        "        if col != 'subcategory':\n",
        "            words = words + ' '.join(row[col])+ ' '\n",
        "        else:\n",
        "            words = words + row[col]+ ' '\n",
        "    row['bag_of_words'] = words\n",
        "    \n",
        "df.drop(columns = [col for col in df.columns if col!= 'bag_of_words'], inplace = True)"
      ]
    },
    {
      "cell_type": "code",
      "execution_count": null,
      "metadata": {
        "colab": {
          "base_uri": "https://localhost:8080/",
          "height": 238
        },
        "id": "kPKIb9JJj70M",
        "outputId": "1eb7307f-a5fc-436d-e3ef-4f265d8dbfa5"
      },
      "outputs": [],
      "source": [
        "df.head()"
      ]
    },
    {
      "cell_type": "code",
      "execution_count": null,
      "metadata": {
        "id": "onWjtNsOj70M"
      },
      "outputs": [],
      "source": [
        "# instantiating and generating the count matrix\n",
        "count = CountVectorizer()\n",
        "count_matrix = count.fit_transform(df['bag_of_words'])"
      ]
    },
    {
      "cell_type": "code",
      "execution_count": null,
      "metadata": {
        "colab": {
          "base_uri": "https://localhost:8080/"
        },
        "id": "gxWlTzsBj70N",
        "outputId": "293df7c1-e19e-4abe-b619-361b601a5d86"
      },
      "outputs": [],
      "source": [
        "count_matrix "
      ]
    },
    {
      "cell_type": "code",
      "execution_count": null,
      "metadata": {
        "id": "Sb08nxyLj70N"
      },
      "outputs": [],
      "source": [
        "c=count_matrix.todense()"
      ]
    },
    {
      "cell_type": "code",
      "execution_count": null,
      "metadata": {
        "colab": {
          "base_uri": "https://localhost:8080/"
        },
        "id": "FK-UuRA3j70O",
        "outputId": "fb21ab5c-7654-49b6-886f-6854450ea423"
      },
      "outputs": [],
      "source": [
        "c"
      ]
    },
    {
      "cell_type": "code",
      "execution_count": null,
      "metadata": {
        "colab": {
          "base_uri": "https://localhost:8080/"
        },
        "id": "D07KwbBwj70O",
        "outputId": "5a6ff9b0-c064-4dd9-dd62-0a58ced148c5"
      },
      "outputs": [],
      "source": [
        "print(count_matrix[0,:])"
      ]
    },
    {
      "cell_type": "code",
      "execution_count": null,
      "metadata": {
        "id": "DGZZxMfpj70P"
      },
      "outputs": [],
      "source": []
    },
    {
      "cell_type": "code",
      "execution_count": null,
      "metadata": {
        "colab": {
          "base_uri": "https://localhost:8080/"
        },
        "id": "J6xQUP-Yj70P",
        "outputId": "08bce4f3-9fdb-4819-c46c-b7c9a2aef56b"
      },
      "outputs": [],
      "source": [
        "# generating the cosine similarity matrix\n",
        "cosine_sim = cosine_similarity(count_matrix, count_matrix)\n",
        "cosine_sim"
      ]
    },
    {
      "cell_type": "code",
      "execution_count": null,
      "metadata": {
        "colab": {
          "base_uri": "https://localhost:8080/"
        },
        "id": "uU42dyftd91-",
        "outputId": "dc8aa741-9385-4462-d23b-bb4c966e190e"
      },
      "outputs": [],
      "source": [
        "# creating a Series for the movie titles so they are associated to an ordered numerical\n",
        "# list I will use later to match the indexes\n",
        "indices = pd.Series(df.index)\n",
        "indices[:20]"
      ]
    },
    {
      "cell_type": "code",
      "execution_count": null,
      "metadata": {
        "id": "HHo6ZubTj70P"
      },
      "outputs": [],
      "source": [
        "# function that takes in movie title as input and returns the top 10 recommended movies\n",
        "def recommendations(title, cosine_sim = cosine_sim):\n",
        "    \n",
        "    recommended_movies = []\n",
        "    \n",
        "    # gettin the index of the movie that matches the title\n",
        "    idx = indices[indices == title].index[0]\n",
        "\n",
        "    # creating a Series with the similarity scores in descending order\n",
        "    score_series = pd.Series(cosine_sim[idx]).sort_values(ascending = False)\n",
        "\n",
        "    # getting the indexes of the 10 most similar movies\n",
        "    top_10_indexes = list(score_series.iloc[1:11].index)\n",
        "    print(top_10_indexes)\n",
        "    \n",
        "    # populating the list with the titles of the best 10 matching movies\n",
        "    for i in top_10_indexes:\n",
        "        recommended_movies.append(list(df.index)[i])\n",
        "        \n",
        "    return recommended_movies"
      ]
    }
  ],
  "metadata": {
    "colab": {
      "provenance": []
    },
    "kernelspec": {
      "display_name": "Python 3",
      "language": "python",
      "name": "python3"
    },
    "language_info": {
      "codemirror_mode": {
        "name": "ipython",
        "version": 3
      },
      "file_extension": ".py",
      "mimetype": "text/x-python",
      "name": "python",
      "nbconvert_exporter": "python",
      "pygments_lexer": "ipython3",
      "version": "3.9.13"
    }
  },
  "nbformat": 4,
  "nbformat_minor": 0
}
